{
 "cells": [
  {
   "cell_type": "code",
   "execution_count": 1,
   "metadata": {},
   "outputs": [],
   "source": [
    "from sklearn.model_selection import train_test_split\n",
    "from sklearn.metrics import r2_score, mean_squared_error"
   ]
  },
  {
   "cell_type": "code",
   "execution_count": null,
   "metadata": {},
   "outputs": [],
   "source": [
    "def evaluate(model):\n",
    "    model.fit(X_train, y_train)\n",
    "    pred = model.predict(X_test)\n",
    "    return {\n",
    "        \"r2\": r2_score(y_test, y_pred),\n",
    "        \"mse\": mean_squared_error(y_test, y_pred)\n",
    "    }"
   ]
  },
  {
   "cell_type": "code",
   "execution_count": null,
   "metadata": {},
   "outputs": [],
   "source": [
    "def print_metrics(model):\n",
    "    metrics = evaluate(model)\n",
    "    print(f\"R2 Score: {metrics['r2']}\")\n",
    "    print(f\"Root Mean Squared Error: {metrics['mse'] ** 0.5}\")"
   ]
  },
  {
   "cell_type": "code",
   "execution_count": null,
   "metadata": {},
   "outputs": [],
   "source": [
    "from xgboost import XGBRegressor"
   ]
  },
  {
   "cell_type": "code",
   "execution_count": null,
   "metadata": {},
   "outputs": [],
   "source": [
    "learning_rates = [i for i in range(0.01, 0.5, 0.05)]\n",
    "\n",
    "metrics = [evaluate(XGBRegressor(device=\"cuda\", eta=lr)) for lr in learning_rates]"
   ]
  },
  {
   "cell_type": "code",
   "execution_count": null,
   "metadata": {},
   "outputs": [],
   "source": [
    "from sklearn.model_selection import HalvingGridSearchCV"
   ]
  },
  {
   "cell_type": "code",
   "execution_count": null,
   "metadata": {},
   "outputs": [],
   "source": [
    "grid_search = HalvingGridSearchCV(XGBRegressor, {\n",
    "    \"device\": [\"cuda\"],\n",
    "    \"eta\": [i for i in range(0.01, 0.51, 0.05)],\n",
    "    \"max_depth\": [i for i in range(3, 8)],\n",
    "    \"lamba\": [i for i in range(0, 5)]\n",
    "})\n",
    "best_model = grid_search.best_estimator_\n",
    "print_metrics(best_model)"
   ]
  }
 ],
 "metadata": {
  "kernelspec": {
   "display_name": "Python 3",
   "language": "python",
   "name": "python3"
  },
  "language_info": {
   "codemirror_mode": {
    "name": "ipython",
    "version": 3
   },
   "file_extension": ".py",
   "mimetype": "text/x-python",
   "name": "python",
   "nbconvert_exporter": "python",
   "pygments_lexer": "ipython3",
   "version": "3.11.4"
  }
 },
 "nbformat": 4,
 "nbformat_minor": 2
}
