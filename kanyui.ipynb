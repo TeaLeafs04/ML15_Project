{
 "cells": [
  {
   "cell_type": "code",
   "execution_count": 1,
   "metadata": {},
   "outputs": [],
   "source": [
    "import pandas as pd\n",
    "import re\n",
    "from haversine import haversine"
   ]
  },
  {
   "cell_type": "code",
   "execution_count": 2,
   "metadata": {},
   "outputs": [
    {
     "data": {
      "text/plain": [
       "array(['Chicago', 'NYC', 'LA', 'SF', 'DC', 'Boston'], dtype=object)"
      ]
     },
     "execution_count": 2,
     "metadata": {},
     "output_type": "execute_result"
    }
   ],
   "source": [
    "df = pd.read_csv('Dataset/airbnb.csv')\n",
    "df.city.unique()"
   ]
  },
  {
   "cell_type": "code",
   "execution_count": 3,
   "metadata": {},
   "outputs": [],
   "source": [
    "import requests\n",
    "from bs4 import BeautifulSoup\n",
    "import pandas as pd\n",
    "\n",
    "def scrape_wikipedia_table(url):\n",
    "    response = requests.get(url)\n",
    "    if response.status_code != 200:\n",
    "        print(f'Failed to retrieve the page, status code: {response.status_code}')\n",
    "        return None\n",
    "\n",
    "    soup = BeautifulSoup(response.content, 'html.parser')\n",
    "    tables = soup.find_all('table', {'class': 'wikitable'})\n",
    "\n",
    "    if len(tables) == 0:\n",
    "        print('No \"wikitable\" found on this page.')\n",
    "        return None\n",
    "    table = tables[0]\n",
    "    headers = []\n",
    "    for th in table.find_all('th'):\n",
    "        headers.append(th.get_text(strip=True))\n",
    "    rows = []\n",
    "    for tr in table.find_all('tr')[1:]:\n",
    "        cols = tr.find_all('td')\n",
    "        row = [col.get_text(strip=True) for col in cols]\n",
    "        if row: \n",
    "            rows.append(row)\n",
    "    df = pd.DataFrame(rows, columns=headers)\n",
    "    return df\n"
   ]
  },
  {
   "cell_type": "code",
   "execution_count": 4,
   "metadata": {},
   "outputs": [],
   "source": [
    "regex = r'(\\d{1,3}°\\d{1,2}′\\d{1,2}″[NS])\\s+(\\d{1,3}°\\d{1,2}′\\d{1,2}″[EW])'\n"
   ]
  },
  {
   "cell_type": "code",
   "execution_count": 5,
   "metadata": {},
   "outputs": [
    {
     "name": "stdout",
     "output_type": "stream",
     "text": [
      "(57, 8)\n",
      "(57, 8)\n",
      "     latitude   longitude\n",
      "0  42°21′36″N  71°03′56″W\n",
      "1  42°21′25″N  71°03′59″W\n",
      "2  42°17′52″N  71°07′22″W\n",
      "3  42°20′57″N  71°05′25″W\n",
      "4  42°21′30″N  71°03′58″W\n"
     ]
    }
   ],
   "source": [
    "boston = pd.read_csv('Dataset/landmarks/Boston.csv')\n",
    "boston[['latitude', 'longitude']] = boston['Location'].str.extract(regex)\n",
    "print(boston.shape)\n",
    "boston = boston.dropna(subset=['latitude', 'longitude'])\n",
    "print(boston.shape)\n",
    "print(boston[['latitude', 'longitude']].head())"
   ]
  },
  {
   "cell_type": "code",
   "execution_count": 6,
   "metadata": {},
   "outputs": [
    {
     "name": "stdout",
     "output_type": "stream",
     "text": [
      "(450, 10)\n",
      "(132, 10)\n",
      "     latitude   longitude\n",
      "1  41°52′47″N  87°38′09″W\n",
      "2  41°53′16″N  87°37′27″W\n",
      "3  41°53′11″N  87°37′36″W\n",
      "4  41°56′51″N  87°39′00″W\n",
      "5  41°46′53″N  87°34′26″W\n"
     ]
    }
   ],
   "source": [
    "chicago = pd.read_csv('Dataset/landmarks/Chicago.csv')\n",
    "chicago[['latitude', 'longitude']] = chicago['Location'].str.extract(regex)\n",
    "print(chicago.shape)\n",
    "chicago = chicago.dropna(subset=['latitude', 'longitude'])\n",
    "print(chicago.shape)\n",
    "print(chicago[['latitude', 'longitude']].head())"
   ]
  },
  {
   "cell_type": "code",
   "execution_count": 7,
   "metadata": {},
   "outputs": [
    {
     "name": "stdout",
     "output_type": "stream",
     "text": [
      "(76, 8)\n",
      "(76, 8)\n",
      "     latitude   longitude\n",
      "0  38°54′05″N  77°02′46″W\n",
      "1  38°54′39″N  77°02′07″W\n",
      "2  38°54′12″N  77°01′28″W\n",
      "3  38°53′58″N  77°02′19″W\n",
      "4  38°54′39″N  77°02′53″W\n"
     ]
    }
   ],
   "source": [
    "DC = pd.read_csv('Dataset/landmarks/DC.csv')\n",
    "DC[['latitude', 'longitude']] = DC['Location'].str.extract(regex)\n",
    "print(DC.shape)\n",
    "DC = DC.dropna(subset=['latitude', 'longitude'])\n",
    "print(DC.shape)\n",
    "print(DC[['latitude', 'longitude']].head())"
   ]
  },
  {
   "cell_type": "code",
   "execution_count": 8,
   "metadata": {},
   "outputs": [
    {
     "name": "stdout",
     "output_type": "stream",
     "text": [
      "(106, 8)\n",
      "(105, 8)\n",
      "     latitude    longitude\n",
      "0  34°02′04″N  118°40′51″W\n",
      "1  34°05′26″N  117°44′35″W\n",
      "2  34°16′11″N  118°10′06″W\n",
      "3  34°03′26″N  118°14′16″W\n",
      "4  33°47′23″N  118°15′32″W\n"
     ]
    }
   ],
   "source": [
    "LA = pd.read_csv('Dataset/landmarks/LA.csv')\n",
    "LA[['latitude', 'longitude']] = LA['Location'].str.extract(regex)\n",
    "print(LA.shape)\n",
    "LA = LA.dropna(subset=['latitude', 'longitude'])\n",
    "print(LA.shape)\n",
    "print(LA[['latitude', 'longitude']].head())"
   ]
  },
  {
   "cell_type": "code",
   "execution_count": 9,
   "metadata": {},
   "outputs": [
    {
     "name": "stdout",
     "output_type": "stream",
     "text": [
      "(116, 9)\n",
      "(116, 9)\n",
      "     latitude   longitude\n",
      "0  40°44′30″N  73°59′01″W\n",
      "1  40°53′32″N  73°51′57″W\n",
      "2  40°42′52″N  74°00′16″W\n",
      "3  40°42′17″N  74°00′09″W\n",
      "4  40°42′32″N  74°00′45″W\n"
     ]
    }
   ],
   "source": [
    "NYC = pd.read_csv('Dataset/landmarks/NYC.csv')\n",
    "NYC[['latitude', 'longitude']] = NYC['Location'].str.extract(regex)\n",
    "print(NYC.shape)\n",
    "NYC = NYC.dropna(subset=['latitude', 'longitude'])\n",
    "print(NYC.shape)\n",
    "print(NYC[['latitude', 'longitude']].head())"
   ]
  },
  {
   "cell_type": "code",
   "execution_count": 10,
   "metadata": {},
   "outputs": [
    {
     "name": "stdout",
     "output_type": "stream",
     "text": [
      "(309, 8)\n",
      "(87, 8)\n",
      "     latitude    longitude\n",
      "0  37°45′51″N  122°25′36″W\n",
      "1  37°47′34″N  122°24′21″W\n",
      "2  37°47′36″N  122°24′06″W\n",
      "3  37°47′08″N  122°24′13″W\n",
      "4  37°47′56″N  122°24′28″W\n"
     ]
    }
   ],
   "source": [
    "SF = pd.read_csv('Dataset/landmarks/SF.csv')\n",
    "SF[['latitude', 'longitude']] = SF['Description'].str.extract(regex)\n",
    "print(SF.shape)\n",
    "SF = SF.dropna(subset=['latitude', 'longitude'])\n",
    "print(SF.shape)\n",
    "print(SF[['latitude', 'longitude']].head())"
   ]
  },
  {
   "cell_type": "code",
   "execution_count": 11,
   "metadata": {},
   "outputs": [],
   "source": [
    "def dms_to_decimal(dms):\n",
    "    match = re.match(r'(\\d+)°(\\d+)′(\\d+)″([NSWE])', dms)\n",
    "    \n",
    "    if match:\n",
    "        degrees, minutes, seconds, direction = match.groups()\n",
    "        decimal = int(degrees) + int(minutes)/60 + int(seconds)/3600\n",
    "        if direction in ['S', 'W']:\n",
    "            decimal = -decimal\n",
    "        return decimal\n",
    "    else:\n",
    "        raise ValueError(f'Invalid DMS format: {dms}')"
   ]
  },
  {
   "cell_type": "code",
   "execution_count": 12,
   "metadata": {},
   "outputs": [],
   "source": [
    "boston['latitude_decimal'] = boston['latitude'].apply(dms_to_decimal)\n",
    "boston['longitude_decimal'] = boston['longitude'].apply(dms_to_decimal)\n",
    "\n",
    "chicago['latitude_decimal'] = chicago['latitude'].apply(dms_to_decimal)\n",
    "chicago['longitude_decimal'] = chicago['longitude'].apply(dms_to_decimal)\n",
    "\n",
    "DC['latitude_decimal'] = DC['latitude'].apply(dms_to_decimal)\n",
    "DC['longitude_decimal'] = DC['longitude'].apply(dms_to_decimal)\n",
    "\n",
    "LA['latitude_decimal'] = LA['latitude'].apply(dms_to_decimal)\n",
    "LA['longitude_decimal'] = LA['longitude'].apply(dms_to_decimal)\n",
    "\n",
    "LA['latitude_decimal'] = LA['latitude'].apply(dms_to_decimal)\n",
    "LA['longitude_decimal'] = LA['longitude'].apply(dms_to_decimal)\n",
    "\n",
    "NYC['latitude_decimal'] = NYC['latitude'].apply(dms_to_decimal)\n",
    "NYC['longitude_decimal'] = NYC['longitude'].apply(dms_to_decimal)\n",
    "\n",
    "SF['latitude_decimal'] = SF['latitude'].apply(dms_to_decimal)\n",
    "SF['longitude_decimal'] = SF['longitude'].apply(dms_to_decimal)"
   ]
  },
  {
   "cell_type": "code",
   "execution_count": 13,
   "metadata": {},
   "outputs": [],
   "source": [
    "def average_distance_from_landmark(lat, lon, landmark_df: pd.DataFrame):\n",
    "    distances = landmark_df.apply(\n",
    "        lambda row: haversine((row['latitude_decimal'], row['longitude_decimal']), (lat, lon)),\n",
    "        axis=1\n",
    "    )\n",
    "    return distances.mean()"
   ]
  },
  {
   "cell_type": "code",
   "execution_count": 27,
   "metadata": {},
   "outputs": [],
   "source": [
    "df.loc[df['city'] == 'Boston', 'average_distance_from_landmark'] = df[df['city'] == 'Boston'].apply(\n",
    "    lambda row: average_distance_from_landmark(row['latitude'], row['longitude'], boston), axis=1\n",
    ")\n",
    "df.loc[df['city'] == 'Chicago', 'average_distance_from_landmark'] = df[df['city'] == 'Chicago'].apply(\n",
    "    lambda row: average_distance_from_landmark(row['latitude'], row['longitude'], chicago), axis=1\n",
    ")\n",
    "df.loc[df['city'] == 'DC', 'average_distance_from_landmark'] = df[df['city'] == 'DC'].apply(\n",
    "    lambda row: average_distance_from_landmark(row['latitude'], row['longitude'], DC), axis=1\n",
    ")\n",
    "df.loc[df['city'] == 'LA', 'average_distance_from_landmark'] = df[df['city'] == 'LA'].apply(\n",
    "    lambda row: average_distance_from_landmark(row['latitude'], row['longitude'], LA), axis=1\n",
    ")\n",
    "df.loc[df['city'] == 'NYC', 'average_distance_from_landmark'] = df[df['city'] == 'NYC'].apply(\n",
    "    lambda row: average_distance_from_landmark(row['latitude'], row['longitude'], NYC), axis=1\n",
    ")\n",
    "df.loc[df['city'] == 'SF', 'average_distance_from_landmark'] = df[df['city'] == 'SF'].apply(\n",
    "    lambda row: average_distance_from_landmark(row['latitude'], row['longitude'], SF), axis=1\n",
    ")"
   ]
  },
  {
   "cell_type": "code",
   "execution_count": null,
   "metadata": {},
   "outputs": [],
   "source": []
  }
 ],
 "metadata": {
  "kernelspec": {
   "display_name": "Python 3",
   "language": "python",
   "name": "python3"
  },
  "language_info": {
   "codemirror_mode": {
    "name": "ipython",
    "version": 3
   },
   "file_extension": ".py",
   "mimetype": "text/x-python",
   "name": "python",
   "nbconvert_exporter": "python",
   "pygments_lexer": "ipython3",
   "version": "3.11.4"
  }
 },
 "nbformat": 4,
 "nbformat_minor": 2
}
