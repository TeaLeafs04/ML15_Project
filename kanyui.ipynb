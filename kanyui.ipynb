{
 "cells": [
  {
   "cell_type": "code",
   "execution_count": 1,
   "metadata": {},
   "outputs": [],
   "source": [
    "import pandas as pd\n",
    "import re\n",
    "import haversine"
   ]
  },
  {
   "cell_type": "code",
   "execution_count": 2,
   "metadata": {},
   "outputs": [
    {
     "data": {
      "text/plain": [
       "array(['Chicago', 'NYC', 'LA', 'SF', 'DC', 'Boston'], dtype=object)"
      ]
     },
     "execution_count": 2,
     "metadata": {},
     "output_type": "execute_result"
    }
   ],
   "source": [
    "df = pd.read_csv('Dataset/airbnb.csv')\n",
    "df.city.unique()"
   ]
  },
  {
   "cell_type": "code",
   "execution_count": 3,
   "metadata": {},
   "outputs": [],
   "source": [
    "import requests\n",
    "from bs4 import BeautifulSoup\n",
    "import pandas as pd\n",
    "\n",
    "def scrape_wikipedia_table(url):\n",
    "    response = requests.get(url)\n",
    "    if response.status_code != 200:\n",
    "        print(f'Failed to retrieve the page, status code: {response.status_code}')\n",
    "        return None\n",
    "\n",
    "    soup = BeautifulSoup(response.content, 'html.parser')\n",
    "    tables = soup.find_all('table', {'class': 'wikitable'})\n",
    "\n",
    "    if len(tables) == 0:\n",
    "        print('No \"wikitable\" found on this page.')\n",
    "        return None\n",
    "    table = tables[0]\n",
    "    headers = []\n",
    "    for th in table.find_all('th'):\n",
    "        headers.append(th.get_text(strip=True))\n",
    "    rows = []\n",
    "    for tr in table.find_all('tr')[1:]:\n",
    "        cols = tr.find_all('td')\n",
    "        row = [col.get_text(strip=True) for col in cols]\n",
    "        if row: \n",
    "            rows.append(row)\n",
    "    df = pd.DataFrame(rows, columns=headers)\n",
    "    return df\n"
   ]
  },
  {
   "cell_type": "code",
   "execution_count": 4,
   "metadata": {},
   "outputs": [],
   "source": [
    "regex = r'(\\d{1,3}°\\d{1,2}′\\d{1,2}″[NS])\\s+(\\d{1,3}°\\d{1,2}′\\d{1,2}″[EW])'\n"
   ]
  },
  {
   "cell_type": "code",
   "execution_count": 5,
   "metadata": {},
   "outputs": [
    {
     "name": "stdout",
     "output_type": "stream",
     "text": [
      "(57, 8)\n",
      "(57, 8)\n",
      "     latitude   longitude\n",
      "0  42°21′36″N  71°03′56″W\n",
      "1  42°21′25″N  71°03′59″W\n",
      "2  42°17′52″N  71°07′22″W\n",
      "3  42°20′57″N  71°05′25″W\n",
      "4  42°21′30″N  71°03′58″W\n"
     ]
    }
   ],
   "source": [
    "boston = pd.read_csv('Dataset/landmarks/Boston.csv')\n",
    "boston[['latitude', 'longitude']] = boston['Location'].str.extract(regex)\n",
    "print(boston.shape)\n",
    "boston = boston.dropna(subset=['latitude', 'longitude'])\n",
    "print(boston.shape)\n",
    "print(boston[['latitude', 'longitude']].head())"
   ]
  },
  {
   "cell_type": "code",
   "execution_count": 6,
   "metadata": {},
   "outputs": [
    {
     "name": "stdout",
     "output_type": "stream",
     "text": [
      "(450, 10)\n",
      "(132, 10)\n",
      "     latitude   longitude\n",
      "1  41°52′47″N  87°38′09″W\n",
      "2  41°53′16″N  87°37′27″W\n",
      "3  41°53′11″N  87°37′36″W\n",
      "4  41°56′51″N  87°39′00″W\n",
      "5  41°46′53″N  87°34′26″W\n"
     ]
    }
   ],
   "source": [
    "chicago = pd.read_csv('Dataset/landmarks/Chicago.csv')\n",
    "chicago[['latitude', 'longitude']] = chicago['Location'].str.extract(regex)\n",
    "print(chicago.shape)\n",
    "chicago = chicago.dropna(subset=['latitude', 'longitude'])\n",
    "print(chicago.shape)\n",
    "print(chicago[['latitude', 'longitude']].head())"
   ]
  },
  {
   "cell_type": "code",
   "execution_count": 7,
   "metadata": {},
   "outputs": [
    {
     "name": "stdout",
     "output_type": "stream",
     "text": [
      "(76, 8)\n",
      "(76, 8)\n",
      "     latitude   longitude\n",
      "0  38°54′05″N  77°02′46″W\n",
      "1  38°54′39″N  77°02′07″W\n",
      "2  38°54′12″N  77°01′28″W\n",
      "3  38°53′58″N  77°02′19″W\n",
      "4  38°54′39″N  77°02′53″W\n"
     ]
    }
   ],
   "source": [
    "DC = pd.read_csv('Dataset/landmarks/DC.csv')\n",
    "DC[['latitude', 'longitude']] = DC['Location'].str.extract(regex)\n",
    "print(DC.shape)\n",
    "DC = DC.dropna(subset=['latitude', 'longitude'])\n",
    "print(DC.shape)\n",
    "print(DC[['latitude', 'longitude']].head())"
   ]
  },
  {
   "cell_type": "code",
   "execution_count": 8,
   "metadata": {},
   "outputs": [
    {
     "name": "stdout",
     "output_type": "stream",
     "text": [
      "(106, 8)\n",
      "(105, 8)\n",
      "     latitude    longitude\n",
      "0  34°02′04″N  118°40′51″W\n",
      "1  34°05′26″N  117°44′35″W\n",
      "2  34°16′11″N  118°10′06″W\n",
      "3  34°03′26″N  118°14′16″W\n",
      "4  33°47′23″N  118°15′32″W\n"
     ]
    }
   ],
   "source": [
    "LA = pd.read_csv('Dataset/landmarks/LA.csv')\n",
    "LA[['latitude', 'longitude']] = LA['Location'].str.extract(regex)\n",
    "print(LA.shape)\n",
    "LA = LA.dropna(subset=['latitude', 'longitude'])\n",
    "print(LA.shape)\n",
    "print(LA[['latitude', 'longitude']].head())"
   ]
  },
  {
   "cell_type": "code",
   "execution_count": 9,
   "metadata": {},
   "outputs": [
    {
     "name": "stdout",
     "output_type": "stream",
     "text": [
      "(116, 9)\n",
      "(116, 9)\n",
      "     latitude   longitude\n",
      "0  40°44′30″N  73°59′01″W\n",
      "1  40°53′32″N  73°51′57″W\n",
      "2  40°42′52″N  74°00′16″W\n",
      "3  40°42′17″N  74°00′09″W\n",
      "4  40°42′32″N  74°00′45″W\n"
     ]
    }
   ],
   "source": [
    "NYC = pd.read_csv('Dataset/landmarks/NYC.csv')\n",
    "NYC[['latitude', 'longitude']] = NYC['Location'].str.extract(regex)\n",
    "print(NYC.shape)\n",
    "NYC = NYC.dropna(subset=['latitude', 'longitude'])\n",
    "print(NYC.shape)\n",
    "print(NYC[['latitude', 'longitude']].head())"
   ]
  },
  {
   "cell_type": "code",
   "execution_count": 10,
   "metadata": {},
   "outputs": [
    {
     "name": "stdout",
     "output_type": "stream",
     "text": [
      "(309, 8)\n",
      "(87, 8)\n",
      "     latitude    longitude\n",
      "0  37°45′51″N  122°25′36″W\n",
      "1  37°47′34″N  122°24′21″W\n",
      "2  37°47′36″N  122°24′06″W\n",
      "3  37°47′08″N  122°24′13″W\n",
      "4  37°47′56″N  122°24′28″W\n"
     ]
    }
   ],
   "source": [
    "SF = pd.read_csv('Dataset/landmarks/SF.csv')\n",
    "SF[['latitude', 'longitude']] = SF['Description'].str.extract(regex)\n",
    "print(SF.shape)\n",
    "SF = SF.dropna(subset=['latitude', 'longitude'])\n",
    "print(SF.shape)\n",
    "print(SF[['latitude', 'longitude']].head())"
   ]
  },
  {
   "cell_type": "code",
   "execution_count": 11,
   "metadata": {},
   "outputs": [],
   "source": [
    "def dms_to_decimal(dms):\n",
    "    match = re.match(r'(\\d+)°(\\d+)′(\\d+)″([NSWE])', dms)\n",
    "    \n",
    "    if match:\n",
    "        degrees, minutes, seconds, direction = match.groups()\n",
    "        decimal = int(degrees) + int(minutes)/60 + int(seconds)/3600\n",
    "        if direction in ['S', 'W']:\n",
    "            decimal = -decimal\n",
    "        return decimal\n",
    "    else:\n",
    "        raise ValueError(f'Invalid DMS format: {dms}')"
   ]
  },
  {
   "cell_type": "code",
   "execution_count": 12,
   "metadata": {},
   "outputs": [],
   "source": [
    "boston['latitude_decimal'] = boston['latitude'].apply(dms_to_decimal)\n",
    "boston['longitude_decimal'] = boston['longitude'].apply(dms_to_decimal)\n",
    "\n",
    "chicago['latitude_decimal'] = chicago['latitude'].apply(dms_to_decimal)\n",
    "chicago['longitude_decimal'] = chicago['longitude'].apply(dms_to_decimal)\n",
    "\n",
    "DC['latitude_decimal'] = DC['latitude'].apply(dms_to_decimal)\n",
    "DC['longitude_decimal'] = DC['longitude'].apply(dms_to_decimal)\n",
    "\n",
    "LA['latitude_decimal'] = LA['latitude'].apply(dms_to_decimal)\n",
    "LA['longitude_decimal'] = LA['longitude'].apply(dms_to_decimal)\n",
    "\n",
    "LA['latitude_decimal'] = LA['latitude'].apply(dms_to_decimal)\n",
    "LA['longitude_decimal'] = LA['longitude'].apply(dms_to_decimal)\n",
    "\n",
    "NYC['latitude_decimal'] = NYC['latitude'].apply(dms_to_decimal)\n",
    "NYC['longitude_decimal'] = NYC['longitude'].apply(dms_to_decimal)\n",
    "\n",
    "SF['latitude_decimal'] = SF['latitude'].apply(dms_to_decimal)\n",
    "SF['longitude_decimal'] = SF['longitude'].apply(dms_to_decimal)"
   ]
  },
  {
   "cell_type": "code",
   "execution_count": null,
   "metadata": {},
   "outputs": [],
   "source": [
    "def average_distance_from_landmark(lat, lon, landmark_df: pd.DataFrame):\n",
    "    distances = landmark_df.apply(lambda row: haversine((row['latitude_decimal'], row['longitude_decimal']), (lat, lon)), axis=1)\n",
    "    return distances.mean()"
   ]
  },
  {
   "cell_type": "code",
   "execution_count": 24,
   "metadata": {},
   "outputs": [
    {
     "data": {
      "text/html": [
       "<div>\n",
       "<style scoped>\n",
       "    .dataframe tbody tr th:only-of-type {\n",
       "        vertical-align: middle;\n",
       "    }\n",
       "\n",
       "    .dataframe tbody tr th {\n",
       "        vertical-align: top;\n",
       "    }\n",
       "\n",
       "    .dataframe thead th {\n",
       "        text-align: right;\n",
       "    }\n",
       "</style>\n",
       "<table border=\"1\" class=\"dataframe\">\n",
       "  <thead>\n",
       "    <tr style=\"text-align: right;\">\n",
       "      <th></th>\n",
       "      <th>longitude</th>\n",
       "      <th>latitude</th>\n",
       "    </tr>\n",
       "  </thead>\n",
       "  <tbody>\n",
       "    <tr>\n",
       "      <th>57</th>\n",
       "      <td>-71.094858</td>\n",
       "      <td>42.344638</td>\n",
       "    </tr>\n",
       "    <tr>\n",
       "      <th>77</th>\n",
       "      <td>-71.068762</td>\n",
       "      <td>42.344462</td>\n",
       "    </tr>\n",
       "    <tr>\n",
       "      <th>85</th>\n",
       "      <td>-71.097457</td>\n",
       "      <td>42.330617</td>\n",
       "    </tr>\n",
       "    <tr>\n",
       "      <th>93</th>\n",
       "      <td>-71.098365</td>\n",
       "      <td>42.344687</td>\n",
       "    </tr>\n",
       "    <tr>\n",
       "      <th>140</th>\n",
       "      <td>-71.114651</td>\n",
       "      <td>42.322172</td>\n",
       "    </tr>\n",
       "    <tr>\n",
       "      <th>...</th>\n",
       "      <td>...</td>\n",
       "      <td>...</td>\n",
       "    </tr>\n",
       "    <tr>\n",
       "      <th>4933</th>\n",
       "      <td>-71.058864</td>\n",
       "      <td>42.281319</td>\n",
       "    </tr>\n",
       "    <tr>\n",
       "      <th>4940</th>\n",
       "      <td>-71.069405</td>\n",
       "      <td>42.359137</td>\n",
       "    </tr>\n",
       "    <tr>\n",
       "      <th>4942</th>\n",
       "      <td>-71.065372</td>\n",
       "      <td>42.349997</td>\n",
       "    </tr>\n",
       "    <tr>\n",
       "      <th>4965</th>\n",
       "      <td>-71.102395</td>\n",
       "      <td>42.350122</td>\n",
       "    </tr>\n",
       "    <tr>\n",
       "      <th>4978</th>\n",
       "      <td>-71.146812</td>\n",
       "      <td>42.353649</td>\n",
       "    </tr>\n",
       "  </tbody>\n",
       "</table>\n",
       "<p>281 rows × 2 columns</p>\n",
       "</div>"
      ],
      "text/plain": [
       "      longitude   latitude\n",
       "57   -71.094858  42.344638\n",
       "77   -71.068762  42.344462\n",
       "85   -71.097457  42.330617\n",
       "93   -71.098365  42.344687\n",
       "140  -71.114651  42.322172\n",
       "...         ...        ...\n",
       "4933 -71.058864  42.281319\n",
       "4940 -71.069405  42.359137\n",
       "4942 -71.065372  42.349997\n",
       "4965 -71.102395  42.350122\n",
       "4978 -71.146812  42.353649\n",
       "\n",
       "[281 rows x 2 columns]"
      ]
     },
     "execution_count": 24,
     "metadata": {},
     "output_type": "execute_result"
    }
   ],
   "source": [
    "df[df['city'] == 'Boston'][['longitude', 'latitude']]\n"
   ]
  },
  {
   "cell_type": "code",
   "execution_count": 27,
   "metadata": {},
   "outputs": [
    {
     "ename": "TypeError",
     "evalue": "'module' object is not callable",
     "output_type": "error",
     "traceback": [
      "\u001b[0;31m---------------------------------------------------------------------------\u001b[0m",
      "\u001b[0;31mTypeError\u001b[0m                                 Traceback (most recent call last)",
      "Cell \u001b[0;32mIn[27], line 1\u001b[0m\n\u001b[0;32m----> 1\u001b[0m df[df[\u001b[38;5;124m'\u001b[39m\u001b[38;5;124mcity\u001b[39m\u001b[38;5;124m'\u001b[39m] \u001b[38;5;241m==\u001b[39m \u001b[38;5;124m'\u001b[39m\u001b[38;5;124mBoston\u001b[39m\u001b[38;5;124m'\u001b[39m][\u001b[38;5;124m'\u001b[39m\u001b[38;5;124maverage_distance_to_landmarks\u001b[39m\u001b[38;5;124m'\u001b[39m] \u001b[38;5;241m=\u001b[39m \u001b[43mdf\u001b[49m\u001b[43m[\u001b[49m\u001b[43mdf\u001b[49m\u001b[43m[\u001b[49m\u001b[38;5;124;43m'\u001b[39;49m\u001b[38;5;124;43mcity\u001b[39;49m\u001b[38;5;124;43m'\u001b[39;49m\u001b[43m]\u001b[49m\u001b[43m \u001b[49m\u001b[38;5;241;43m==\u001b[39;49m\u001b[43m \u001b[49m\u001b[38;5;124;43m'\u001b[39;49m\u001b[38;5;124;43mBoston\u001b[39;49m\u001b[38;5;124;43m'\u001b[39;49m\u001b[43m]\u001b[49m\u001b[38;5;241;43m.\u001b[39;49m\u001b[43mapply\u001b[49m\u001b[43m(\u001b[49m\u001b[43mcalculate_avg_distance\u001b[49m\u001b[43m,\u001b[49m\u001b[43m \u001b[49m\u001b[43mlandmarks\u001b[49m\u001b[38;5;241;43m=\u001b[39;49m\u001b[43mboston\u001b[49m\u001b[43m,\u001b[49m\u001b[43m \u001b[49m\u001b[43maxis\u001b[49m\u001b[38;5;241;43m=\u001b[39;49m\u001b[38;5;241;43m1\u001b[39;49m\u001b[43m)\u001b[49m\n",
      "File \u001b[0;32m/Library/Frameworks/Python.framework/Versions/3.11/lib/python3.11/site-packages/pandas/core/frame.py:10374\u001b[0m, in \u001b[0;36mDataFrame.apply\u001b[0;34m(self, func, axis, raw, result_type, args, by_row, engine, engine_kwargs, **kwargs)\u001b[0m\n\u001b[1;32m  10360\u001b[0m \u001b[38;5;28;01mfrom\u001b[39;00m \u001b[38;5;21;01mpandas\u001b[39;00m\u001b[38;5;21;01m.\u001b[39;00m\u001b[38;5;21;01mcore\u001b[39;00m\u001b[38;5;21;01m.\u001b[39;00m\u001b[38;5;21;01mapply\u001b[39;00m \u001b[38;5;28;01mimport\u001b[39;00m frame_apply\n\u001b[1;32m  10362\u001b[0m op \u001b[38;5;241m=\u001b[39m frame_apply(\n\u001b[1;32m  10363\u001b[0m     \u001b[38;5;28mself\u001b[39m,\n\u001b[1;32m  10364\u001b[0m     func\u001b[38;5;241m=\u001b[39mfunc,\n\u001b[0;32m   (...)\u001b[0m\n\u001b[1;32m  10372\u001b[0m     kwargs\u001b[38;5;241m=\u001b[39mkwargs,\n\u001b[1;32m  10373\u001b[0m )\n\u001b[0;32m> 10374\u001b[0m \u001b[38;5;28;01mreturn\u001b[39;00m \u001b[43mop\u001b[49m\u001b[38;5;241;43m.\u001b[39;49m\u001b[43mapply\u001b[49m\u001b[43m(\u001b[49m\u001b[43m)\u001b[49m\u001b[38;5;241m.\u001b[39m__finalize__(\u001b[38;5;28mself\u001b[39m, method\u001b[38;5;241m=\u001b[39m\u001b[38;5;124m\"\u001b[39m\u001b[38;5;124mapply\u001b[39m\u001b[38;5;124m\"\u001b[39m)\n",
      "File \u001b[0;32m/Library/Frameworks/Python.framework/Versions/3.11/lib/python3.11/site-packages/pandas/core/apply.py:916\u001b[0m, in \u001b[0;36mFrameApply.apply\u001b[0;34m(self)\u001b[0m\n\u001b[1;32m    913\u001b[0m \u001b[38;5;28;01melif\u001b[39;00m \u001b[38;5;28mself\u001b[39m\u001b[38;5;241m.\u001b[39mraw:\n\u001b[1;32m    914\u001b[0m     \u001b[38;5;28;01mreturn\u001b[39;00m \u001b[38;5;28mself\u001b[39m\u001b[38;5;241m.\u001b[39mapply_raw(engine\u001b[38;5;241m=\u001b[39m\u001b[38;5;28mself\u001b[39m\u001b[38;5;241m.\u001b[39mengine, engine_kwargs\u001b[38;5;241m=\u001b[39m\u001b[38;5;28mself\u001b[39m\u001b[38;5;241m.\u001b[39mengine_kwargs)\n\u001b[0;32m--> 916\u001b[0m \u001b[38;5;28;01mreturn\u001b[39;00m \u001b[38;5;28;43mself\u001b[39;49m\u001b[38;5;241;43m.\u001b[39;49m\u001b[43mapply_standard\u001b[49m\u001b[43m(\u001b[49m\u001b[43m)\u001b[49m\n",
      "File \u001b[0;32m/Library/Frameworks/Python.framework/Versions/3.11/lib/python3.11/site-packages/pandas/core/apply.py:1063\u001b[0m, in \u001b[0;36mFrameApply.apply_standard\u001b[0;34m(self)\u001b[0m\n\u001b[1;32m   1061\u001b[0m \u001b[38;5;28;01mdef\u001b[39;00m \u001b[38;5;21mapply_standard\u001b[39m(\u001b[38;5;28mself\u001b[39m):\n\u001b[1;32m   1062\u001b[0m     \u001b[38;5;28;01mif\u001b[39;00m \u001b[38;5;28mself\u001b[39m\u001b[38;5;241m.\u001b[39mengine \u001b[38;5;241m==\u001b[39m \u001b[38;5;124m\"\u001b[39m\u001b[38;5;124mpython\u001b[39m\u001b[38;5;124m\"\u001b[39m:\n\u001b[0;32m-> 1063\u001b[0m         results, res_index \u001b[38;5;241m=\u001b[39m \u001b[38;5;28;43mself\u001b[39;49m\u001b[38;5;241;43m.\u001b[39;49m\u001b[43mapply_series_generator\u001b[49m\u001b[43m(\u001b[49m\u001b[43m)\u001b[49m\n\u001b[1;32m   1064\u001b[0m     \u001b[38;5;28;01melse\u001b[39;00m:\n\u001b[1;32m   1065\u001b[0m         results, res_index \u001b[38;5;241m=\u001b[39m \u001b[38;5;28mself\u001b[39m\u001b[38;5;241m.\u001b[39mapply_series_numba()\n",
      "File \u001b[0;32m/Library/Frameworks/Python.framework/Versions/3.11/lib/python3.11/site-packages/pandas/core/apply.py:1081\u001b[0m, in \u001b[0;36mFrameApply.apply_series_generator\u001b[0;34m(self)\u001b[0m\n\u001b[1;32m   1078\u001b[0m \u001b[38;5;28;01mwith\u001b[39;00m option_context(\u001b[38;5;124m\"\u001b[39m\u001b[38;5;124mmode.chained_assignment\u001b[39m\u001b[38;5;124m\"\u001b[39m, \u001b[38;5;28;01mNone\u001b[39;00m):\n\u001b[1;32m   1079\u001b[0m     \u001b[38;5;28;01mfor\u001b[39;00m i, v \u001b[38;5;129;01min\u001b[39;00m \u001b[38;5;28menumerate\u001b[39m(series_gen):\n\u001b[1;32m   1080\u001b[0m         \u001b[38;5;66;03m# ignore SettingWithCopy here in case the user mutates\u001b[39;00m\n\u001b[0;32m-> 1081\u001b[0m         results[i] \u001b[38;5;241m=\u001b[39m \u001b[38;5;28;43mself\u001b[39;49m\u001b[38;5;241;43m.\u001b[39;49m\u001b[43mfunc\u001b[49m\u001b[43m(\u001b[49m\u001b[43mv\u001b[49m\u001b[43m,\u001b[49m\u001b[43m \u001b[49m\u001b[38;5;241;43m*\u001b[39;49m\u001b[38;5;28;43mself\u001b[39;49m\u001b[38;5;241;43m.\u001b[39;49m\u001b[43margs\u001b[49m\u001b[43m,\u001b[49m\u001b[43m \u001b[49m\u001b[38;5;241;43m*\u001b[39;49m\u001b[38;5;241;43m*\u001b[39;49m\u001b[38;5;28;43mself\u001b[39;49m\u001b[38;5;241;43m.\u001b[39;49m\u001b[43mkwargs\u001b[49m\u001b[43m)\u001b[49m\n\u001b[1;32m   1082\u001b[0m         \u001b[38;5;28;01mif\u001b[39;00m \u001b[38;5;28misinstance\u001b[39m(results[i], ABCSeries):\n\u001b[1;32m   1083\u001b[0m             \u001b[38;5;66;03m# If we have a view on v, we need to make a copy because\u001b[39;00m\n\u001b[1;32m   1084\u001b[0m             \u001b[38;5;66;03m#  series_generator will swap out the underlying data\u001b[39;00m\n\u001b[1;32m   1085\u001b[0m             results[i] \u001b[38;5;241m=\u001b[39m results[i]\u001b[38;5;241m.\u001b[39mcopy(deep\u001b[38;5;241m=\u001b[39m\u001b[38;5;28;01mFalse\u001b[39;00m)\n",
      "Cell \u001b[0;32mIn[26], line 4\u001b[0m, in \u001b[0;36mcalculate_avg_distance\u001b[0;34m(row, landmarks)\u001b[0m\n\u001b[1;32m      2\u001b[0m total_distance \u001b[38;5;241m=\u001b[39m \u001b[38;5;241m0\u001b[39m\n\u001b[1;32m      3\u001b[0m \u001b[38;5;28;01mfor\u001b[39;00m _, landmark \u001b[38;5;129;01min\u001b[39;00m landmarks\u001b[38;5;241m.\u001b[39miterrows():\n\u001b[0;32m----> 4\u001b[0m     total_distance \u001b[38;5;241m+\u001b[39m\u001b[38;5;241m=\u001b[39m \u001b[43mhaversine\u001b[49m\u001b[43m(\u001b[49m\u001b[43m(\u001b[49m\u001b[43mrow\u001b[49m\u001b[43m[\u001b[49m\u001b[38;5;124;43m'\u001b[39;49m\u001b[38;5;124;43mlongitude\u001b[39;49m\u001b[38;5;124;43m'\u001b[39;49m\u001b[43m]\u001b[49m\u001b[43m,\u001b[49m\u001b[43m \u001b[49m\u001b[43mrow\u001b[49m\u001b[43m[\u001b[49m\u001b[38;5;124;43m'\u001b[39;49m\u001b[38;5;124;43mlatitude\u001b[39;49m\u001b[38;5;124;43m'\u001b[39;49m\u001b[43m]\u001b[49m\u001b[43m)\u001b[49m\u001b[43m,\u001b[49m\u001b[43m \u001b[49m\u001b[43m(\u001b[49m\u001b[43mlandmark\u001b[49m\u001b[43m[\u001b[49m\u001b[38;5;124;43m'\u001b[39;49m\u001b[38;5;124;43mlongitude_decimal\u001b[39;49m\u001b[38;5;124;43m'\u001b[39;49m\u001b[43m]\u001b[49m\u001b[43m,\u001b[49m\u001b[43m \u001b[49m\u001b[43mlandmark\u001b[49m\u001b[43m[\u001b[49m\u001b[38;5;124;43m'\u001b[39;49m\u001b[38;5;124;43mlatitude_decimal\u001b[39;49m\u001b[38;5;124;43m'\u001b[39;49m\u001b[43m]\u001b[49m\u001b[43m)\u001b[49m\u001b[43m)\u001b[49m\n\u001b[1;32m      5\u001b[0m avg_distance \u001b[38;5;241m=\u001b[39m total_distance \u001b[38;5;241m/\u001b[39m \u001b[38;5;28mlen\u001b[39m(landmarks)\n\u001b[1;32m      6\u001b[0m \u001b[38;5;28;01mreturn\u001b[39;00m avg_distance\n",
      "\u001b[0;31mTypeError\u001b[0m: 'module' object is not callable"
     ]
    }
   ],
   "source": [
    "df[df['city'] == 'Boston']['average_distance_to_landmarks'] = df[df['city'] == 'Boston'].apply(calculate_avg_distance, landmarks=boston, axis=1)"
   ]
  },
  {
   "cell_type": "code",
   "execution_count": null,
   "metadata": {},
   "outputs": [],
   "source": []
  }
 ],
 "metadata": {
  "kernelspec": {
   "display_name": "Python 3",
   "language": "python",
   "name": "python3"
  },
  "language_info": {
   "codemirror_mode": {
    "name": "ipython",
    "version": 3
   },
   "file_extension": ".py",
   "mimetype": "text/x-python",
   "name": "python",
   "nbconvert_exporter": "python",
   "pygments_lexer": "ipython3",
   "version": "3.11.4"
  }
 },
 "nbformat": 4,
 "nbformat_minor": 2
}
