{
 "cells": [
  {
   "cell_type": "markdown",
   "metadata": {
    "id": "JyViNokqdO33"
   },
   "source": [
    "### Import Libraries"
   ]
  },
  {
   "cell_type": "code",
   "execution_count": 7,
   "metadata": {
    "id": "GuQGrl7NdG4K"
   },
   "outputs": [],
   "source": [
    "import re\n",
    "import os\n",
    "import pandas as pd\n",
    "import numpy as np\n",
    "import matplotlib.pyplot as plt\n",
    "import seaborn as sns\n",
    "from haversine import haversine"
   ]
  },
  {
   "cell_type": "code",
   "execution_count": null,
   "metadata": {
    "id": "dwILv9zBddI9"
   },
   "outputs": [],
   "source": [
    "df = pd.read_csv(\"Dataset/airbnb_with_landmark_features.csv\")"
   ]
  },
  {
   "cell_type": "markdown",
   "metadata": {
    "id": "Moy7h7DEoDFk"
   },
   "source": [
    "#### Light Cleaning of Data"
   ]
  },
  {
   "cell_type": "code",
   "execution_count": 10,
   "metadata": {
    "id": "VCl8RDF6oGcC"
   },
   "outputs": [],
   "source": [
    "df['price'] = np.exp(df[\"log_price\"])"
   ]
  },
  {
   "cell_type": "markdown",
   "metadata": {
    "id": "eZTZJj2g42WO"
   },
   "source": [
    "### Rationale for Investigating Metro Proximity\n",
    "Our exploratory data analysis (EDA) on geospatial features highlighted patterns indicating that proximity to metro stations may significantly influence Airbnb pricing. Metro access, being a critical aspect of urban convenience and connectivity, is hypothesized to enhance the desirability of accommodations. Specifically, we hypothesize that the nearer an Airbnb is to a metro station, the more convenient its location is perceived to be, resulting in higher pricing.\n",
    "\n",
    "The metro data for each of the six cities was collected online, including the latitude and longitude of each station. By engineering features such as the distance to the nearest metro station and density of nearby stations, we aim to explore their relationship with Airbnb pricing."
   ]
  },
  {
   "cell_type": "markdown",
   "metadata": {
    "id": "6cB_tzm3hknf"
   },
   "source": [
    "#### Function to load data from multiple .csv in a folder"
   ]
  },
  {
   "cell_type": "code",
   "execution_count": null,
   "metadata": {
    "id": "ZAiyLaYphjBx"
   },
   "outputs": [],
   "source": [
    "def load_data_from_folder(folder_path):\n",
    "    \"\"\"\n",
    "    Load and concatenate data from CSV files in a specified folder.\n",
    "\n",
    "    Args:\n",
    "        folder_path (str): Path to the folder containing the CSV files.\n",
    "\n",
    "    Returns:\n",
    "        pd.DataFrame: A concatenated DataFrame with an additional 'city' column.\n",
    "    \"\"\"\n",
    "    # List to store data from each CSV\n",
    "    data = []\n",
    "\n",
    "    # Loop through all files in the specified folder\n",
    "    for file_name in os.listdir(folder_path):\n",
    "        if file_name.endswith(\".csv\"):  # Check if the file is a CSV\n",
    "            file_path = os.path.join(folder_path, file_name)  # Full path to the file\n",
    "            city_df = pd.read_csv(file_path)  # Read the CSV into a DataFrame\n",
    "            city_name = file_name.replace(\".csv\", \"\")  # Extract the city name from the file name\n",
    "            city_df[\"city\"] = city_name  # Add a column for the city name\n",
    "            data.append(city_df)  # Append the DataFrame to the list\n",
    "\n",
    "    # Concatenate all the city DataFrames into a single DataFrame\n",
    "    concatenated_df = pd.concat(data, ignore_index=True)\n",
    "\n",
    "    return concatenated_df"
   ]
  },
  {
   "cell_type": "markdown",
   "metadata": {
    "id": "HxqPD3d-F7_8"
   },
   "source": [
    "### Load Metro Data and Clean"
   ]
  },
  {
   "cell_type": "code",
   "execution_count": null,
   "metadata": {
    "colab": {
     "base_uri": "https://localhost:8080/",
     "height": 424
    },
    "id": "pJUoAznO79hC",
    "outputId": "c66ffedf-3410-4c86-a7cb-39cb5c9d6824"
   },
   "outputs": [
    {
     "data": {
      "application/vnd.google.colaboratory.intrinsic+json": {
       "summary": "{\n  \"name\": \"metro_df\",\n  \"rows\": 2640,\n  \"fields\": [\n    {\n      \"column\": \"X\",\n      \"properties\": {\n        \"dtype\": \"number\",\n        \"std\": 11.887403250926262,\n        \"min\": -122.468911907166,\n        \"max\": -70.2765830003669,\n        \"num_unique_values\": 1082,\n        \"samples\": [\n          -87.6274081309855,\n          -118.237913185784,\n          -73.878751\n        ],\n        \"semantic_type\": \"\",\n        \"description\": \"\"\n      }\n    },\n    {\n      \"column\": \"Y\",\n      \"properties\": {\n        \"dtype\": \"number\",\n        \"std\": 1.7007030969688766,\n        \"min\": 33.7680758276213,\n        \"max\": 42.7978370000451,\n        \"num_unique_values\": 1082,\n        \"samples\": [\n          41.8673755179234,\n          34.0501048564384,\n          40.886037\n        ],\n        \"semantic_type\": \"\",\n        \"description\": \"\"\n      }\n    },\n    {\n      \"column\": \"Name\",\n      \"properties\": {\n        \"dtype\": \"category\",\n        \"num_unique_values\": 285,\n        \"samples\": [\n          \"Southport\",\n          \"Azusa Downtown Station\",\n          \"Pittsburg Center\"\n        ],\n        \"semantic_type\": \"\",\n        \"description\": \"\"\n      }\n    },\n    {\n      \"column\": \"city\",\n      \"properties\": {\n        \"dtype\": \"category\",\n        \"num_unique_values\": 6,\n        \"samples\": [\n          \"Chicago\",\n          \"SF\",\n          \"DC\"\n        ],\n        \"semantic_type\": \"\",\n        \"description\": \"\"\n      }\n    }\n  ]\n}",
       "type": "dataframe",
       "variable_name": "metro_df"
      },
      "text/html": [
       "\n",
       "  <div id=\"df-d62302e4-77dc-44a7-8fba-36ccf4b7f369\" class=\"colab-df-container\">\n",
       "    <div>\n",
       "<style scoped>\n",
       "    .dataframe tbody tr th:only-of-type {\n",
       "        vertical-align: middle;\n",
       "    }\n",
       "\n",
       "    .dataframe tbody tr th {\n",
       "        vertical-align: top;\n",
       "    }\n",
       "\n",
       "    .dataframe thead th {\n",
       "        text-align: right;\n",
       "    }\n",
       "</style>\n",
       "<table border=\"1\" class=\"dataframe\">\n",
       "  <thead>\n",
       "    <tr style=\"text-align: right;\">\n",
       "      <th></th>\n",
       "      <th>X</th>\n",
       "      <th>Y</th>\n",
       "      <th>Name</th>\n",
       "      <th>city</th>\n",
       "    </tr>\n",
       "  </thead>\n",
       "  <tbody>\n",
       "    <tr>\n",
       "      <th>0</th>\n",
       "      <td>-87.756698</td>\n",
       "      <td>41.851781</td>\n",
       "      <td>54th/Cermak</td>\n",
       "      <td>Chicago</td>\n",
       "    </tr>\n",
       "    <tr>\n",
       "      <th>1</th>\n",
       "      <td>-87.747227</td>\n",
       "      <td>42.026252</td>\n",
       "      <td>Oakton-Skokie</td>\n",
       "      <td>Chicago</td>\n",
       "    </tr>\n",
       "    <tr>\n",
       "      <th>2</th>\n",
       "      <td>-87.724333</td>\n",
       "      <td>41.853865</td>\n",
       "      <td>Pulaski</td>\n",
       "      <td>Chicago</td>\n",
       "    </tr>\n",
       "    <tr>\n",
       "      <th>3</th>\n",
       "      <td>-87.708547</td>\n",
       "      <td>41.929736</td>\n",
       "      <td>Logan Square</td>\n",
       "      <td>Chicago</td>\n",
       "    </tr>\n",
       "    <tr>\n",
       "      <th>4</th>\n",
       "      <td>-87.729183</td>\n",
       "      <td>41.952948</td>\n",
       "      <td>Irving Park</td>\n",
       "      <td>Chicago</td>\n",
       "    </tr>\n",
       "    <tr>\n",
       "      <th>...</th>\n",
       "      <td>...</td>\n",
       "      <td>...</td>\n",
       "      <td>...</td>\n",
       "      <td>...</td>\n",
       "    </tr>\n",
       "    <tr>\n",
       "      <th>2635</th>\n",
       "      <td>-77.415297</td>\n",
       "      <td>38.960766</td>\n",
       "      <td>NaN</td>\n",
       "      <td>DC</td>\n",
       "    </tr>\n",
       "    <tr>\n",
       "      <th>2636</th>\n",
       "      <td>-77.448150</td>\n",
       "      <td>38.955792</td>\n",
       "      <td>NaN</td>\n",
       "      <td>DC</td>\n",
       "    </tr>\n",
       "    <tr>\n",
       "      <th>2637</th>\n",
       "      <td>-77.460687</td>\n",
       "      <td>38.992048</td>\n",
       "      <td>NaN</td>\n",
       "      <td>DC</td>\n",
       "    </tr>\n",
       "    <tr>\n",
       "      <th>2638</th>\n",
       "      <td>-77.491539</td>\n",
       "      <td>39.005291</td>\n",
       "      <td>NaN</td>\n",
       "      <td>DC</td>\n",
       "    </tr>\n",
       "    <tr>\n",
       "      <th>2639</th>\n",
       "      <td>-77.046407</td>\n",
       "      <td>38.834014</td>\n",
       "      <td>NaN</td>\n",
       "      <td>DC</td>\n",
       "    </tr>\n",
       "  </tbody>\n",
       "</table>\n",
       "<p>2640 rows × 4 columns</p>\n",
       "</div>\n",
       "    <div class=\"colab-df-buttons\">\n",
       "\n",
       "  <div class=\"colab-df-container\">\n",
       "    <button class=\"colab-df-convert\" onclick=\"convertToInteractive('df-d62302e4-77dc-44a7-8fba-36ccf4b7f369')\"\n",
       "            title=\"Convert this dataframe to an interactive table.\"\n",
       "            style=\"display:none;\">\n",
       "\n",
       "  <svg xmlns=\"http://www.w3.org/2000/svg\" height=\"24px\" viewBox=\"0 -960 960 960\">\n",
       "    <path d=\"M120-120v-720h720v720H120Zm60-500h600v-160H180v160Zm220 220h160v-160H400v160Zm0 220h160v-160H400v160ZM180-400h160v-160H180v160Zm440 0h160v-160H620v160ZM180-180h160v-160H180v160Zm440 0h160v-160H620v160Z\"/>\n",
       "  </svg>\n",
       "    </button>\n",
       "\n",
       "  <style>\n",
       "    .colab-df-container {\n",
       "      display:flex;\n",
       "      gap: 12px;\n",
       "    }\n",
       "\n",
       "    .colab-df-convert {\n",
       "      background-color: #E8F0FE;\n",
       "      border: none;\n",
       "      border-radius: 50%;\n",
       "      cursor: pointer;\n",
       "      display: none;\n",
       "      fill: #1967D2;\n",
       "      height: 32px;\n",
       "      padding: 0 0 0 0;\n",
       "      width: 32px;\n",
       "    }\n",
       "\n",
       "    .colab-df-convert:hover {\n",
       "      background-color: #E2EBFA;\n",
       "      box-shadow: 0px 1px 2px rgba(60, 64, 67, 0.3), 0px 1px 3px 1px rgba(60, 64, 67, 0.15);\n",
       "      fill: #174EA6;\n",
       "    }\n",
       "\n",
       "    .colab-df-buttons div {\n",
       "      margin-bottom: 4px;\n",
       "    }\n",
       "\n",
       "    [theme=dark] .colab-df-convert {\n",
       "      background-color: #3B4455;\n",
       "      fill: #D2E3FC;\n",
       "    }\n",
       "\n",
       "    [theme=dark] .colab-df-convert:hover {\n",
       "      background-color: #434B5C;\n",
       "      box-shadow: 0px 1px 3px 1px rgba(0, 0, 0, 0.15);\n",
       "      filter: drop-shadow(0px 1px 2px rgba(0, 0, 0, 0.3));\n",
       "      fill: #FFFFFF;\n",
       "    }\n",
       "  </style>\n",
       "\n",
       "    <script>\n",
       "      const buttonEl =\n",
       "        document.querySelector('#df-d62302e4-77dc-44a7-8fba-36ccf4b7f369 button.colab-df-convert');\n",
       "      buttonEl.style.display =\n",
       "        google.colab.kernel.accessAllowed ? 'block' : 'none';\n",
       "\n",
       "      async function convertToInteractive(key) {\n",
       "        const element = document.querySelector('#df-d62302e4-77dc-44a7-8fba-36ccf4b7f369');\n",
       "        const dataTable =\n",
       "          await google.colab.kernel.invokeFunction('convertToInteractive',\n",
       "                                                    [key], {});\n",
       "        if (!dataTable) return;\n",
       "\n",
       "        const docLinkHtml = 'Like what you see? Visit the ' +\n",
       "          '<a target=\"_blank\" href=https://colab.research.google.com/notebooks/data_table.ipynb>data table notebook</a>'\n",
       "          + ' to learn more about interactive tables.';\n",
       "        element.innerHTML = '';\n",
       "        dataTable['output_type'] = 'display_data';\n",
       "        await google.colab.output.renderOutput(dataTable, element);\n",
       "        const docLink = document.createElement('div');\n",
       "        docLink.innerHTML = docLinkHtml;\n",
       "        element.appendChild(docLink);\n",
       "      }\n",
       "    </script>\n",
       "  </div>\n",
       "\n",
       "\n",
       "<div id=\"df-297d1c65-3162-4ea1-b36d-8ba501923263\">\n",
       "  <button class=\"colab-df-quickchart\" onclick=\"quickchart('df-297d1c65-3162-4ea1-b36d-8ba501923263')\"\n",
       "            title=\"Suggest charts\"\n",
       "            style=\"display:none;\">\n",
       "\n",
       "<svg xmlns=\"http://www.w3.org/2000/svg\" height=\"24px\"viewBox=\"0 0 24 24\"\n",
       "     width=\"24px\">\n",
       "    <g>\n",
       "        <path d=\"M19 3H5c-1.1 0-2 .9-2 2v14c0 1.1.9 2 2 2h14c1.1 0 2-.9 2-2V5c0-1.1-.9-2-2-2zM9 17H7v-7h2v7zm4 0h-2V7h2v10zm4 0h-2v-4h2v4z\"/>\n",
       "    </g>\n",
       "</svg>\n",
       "  </button>\n",
       "\n",
       "<style>\n",
       "  .colab-df-quickchart {\n",
       "      --bg-color: #E8F0FE;\n",
       "      --fill-color: #1967D2;\n",
       "      --hover-bg-color: #E2EBFA;\n",
       "      --hover-fill-color: #174EA6;\n",
       "      --disabled-fill-color: #AAA;\n",
       "      --disabled-bg-color: #DDD;\n",
       "  }\n",
       "\n",
       "  [theme=dark] .colab-df-quickchart {\n",
       "      --bg-color: #3B4455;\n",
       "      --fill-color: #D2E3FC;\n",
       "      --hover-bg-color: #434B5C;\n",
       "      --hover-fill-color: #FFFFFF;\n",
       "      --disabled-bg-color: #3B4455;\n",
       "      --disabled-fill-color: #666;\n",
       "  }\n",
       "\n",
       "  .colab-df-quickchart {\n",
       "    background-color: var(--bg-color);\n",
       "    border: none;\n",
       "    border-radius: 50%;\n",
       "    cursor: pointer;\n",
       "    display: none;\n",
       "    fill: var(--fill-color);\n",
       "    height: 32px;\n",
       "    padding: 0;\n",
       "    width: 32px;\n",
       "  }\n",
       "\n",
       "  .colab-df-quickchart:hover {\n",
       "    background-color: var(--hover-bg-color);\n",
       "    box-shadow: 0 1px 2px rgba(60, 64, 67, 0.3), 0 1px 3px 1px rgba(60, 64, 67, 0.15);\n",
       "    fill: var(--button-hover-fill-color);\n",
       "  }\n",
       "\n",
       "  .colab-df-quickchart-complete:disabled,\n",
       "  .colab-df-quickchart-complete:disabled:hover {\n",
       "    background-color: var(--disabled-bg-color);\n",
       "    fill: var(--disabled-fill-color);\n",
       "    box-shadow: none;\n",
       "  }\n",
       "\n",
       "  .colab-df-spinner {\n",
       "    border: 2px solid var(--fill-color);\n",
       "    border-color: transparent;\n",
       "    border-bottom-color: var(--fill-color);\n",
       "    animation:\n",
       "      spin 1s steps(1) infinite;\n",
       "  }\n",
       "\n",
       "  @keyframes spin {\n",
       "    0% {\n",
       "      border-color: transparent;\n",
       "      border-bottom-color: var(--fill-color);\n",
       "      border-left-color: var(--fill-color);\n",
       "    }\n",
       "    20% {\n",
       "      border-color: transparent;\n",
       "      border-left-color: var(--fill-color);\n",
       "      border-top-color: var(--fill-color);\n",
       "    }\n",
       "    30% {\n",
       "      border-color: transparent;\n",
       "      border-left-color: var(--fill-color);\n",
       "      border-top-color: var(--fill-color);\n",
       "      border-right-color: var(--fill-color);\n",
       "    }\n",
       "    40% {\n",
       "      border-color: transparent;\n",
       "      border-right-color: var(--fill-color);\n",
       "      border-top-color: var(--fill-color);\n",
       "    }\n",
       "    60% {\n",
       "      border-color: transparent;\n",
       "      border-right-color: var(--fill-color);\n",
       "    }\n",
       "    80% {\n",
       "      border-color: transparent;\n",
       "      border-right-color: var(--fill-color);\n",
       "      border-bottom-color: var(--fill-color);\n",
       "    }\n",
       "    90% {\n",
       "      border-color: transparent;\n",
       "      border-bottom-color: var(--fill-color);\n",
       "    }\n",
       "  }\n",
       "</style>\n",
       "\n",
       "  <script>\n",
       "    async function quickchart(key) {\n",
       "      const quickchartButtonEl =\n",
       "        document.querySelector('#' + key + ' button');\n",
       "      quickchartButtonEl.disabled = true;  // To prevent multiple clicks.\n",
       "      quickchartButtonEl.classList.add('colab-df-spinner');\n",
       "      try {\n",
       "        const charts = await google.colab.kernel.invokeFunction(\n",
       "            'suggestCharts', [key], {});\n",
       "      } catch (error) {\n",
       "        console.error('Error during call to suggestCharts:', error);\n",
       "      }\n",
       "      quickchartButtonEl.classList.remove('colab-df-spinner');\n",
       "      quickchartButtonEl.classList.add('colab-df-quickchart-complete');\n",
       "    }\n",
       "    (() => {\n",
       "      let quickchartButtonEl =\n",
       "        document.querySelector('#df-297d1c65-3162-4ea1-b36d-8ba501923263 button');\n",
       "      quickchartButtonEl.style.display =\n",
       "        google.colab.kernel.accessAllowed ? 'block' : 'none';\n",
       "    })();\n",
       "  </script>\n",
       "</div>\n",
       "\n",
       "  <div id=\"id_3214c2fe-847a-4097-af52-e96e6a8e3422\">\n",
       "    <style>\n",
       "      .colab-df-generate {\n",
       "        background-color: #E8F0FE;\n",
       "        border: none;\n",
       "        border-radius: 50%;\n",
       "        cursor: pointer;\n",
       "        display: none;\n",
       "        fill: #1967D2;\n",
       "        height: 32px;\n",
       "        padding: 0 0 0 0;\n",
       "        width: 32px;\n",
       "      }\n",
       "\n",
       "      .colab-df-generate:hover {\n",
       "        background-color: #E2EBFA;\n",
       "        box-shadow: 0px 1px 2px rgba(60, 64, 67, 0.3), 0px 1px 3px 1px rgba(60, 64, 67, 0.15);\n",
       "        fill: #174EA6;\n",
       "      }\n",
       "\n",
       "      [theme=dark] .colab-df-generate {\n",
       "        background-color: #3B4455;\n",
       "        fill: #D2E3FC;\n",
       "      }\n",
       "\n",
       "      [theme=dark] .colab-df-generate:hover {\n",
       "        background-color: #434B5C;\n",
       "        box-shadow: 0px 1px 3px 1px rgba(0, 0, 0, 0.15);\n",
       "        filter: drop-shadow(0px 1px 2px rgba(0, 0, 0, 0.3));\n",
       "        fill: #FFFFFF;\n",
       "      }\n",
       "    </style>\n",
       "    <button class=\"colab-df-generate\" onclick=\"generateWithVariable('metro_df')\"\n",
       "            title=\"Generate code using this dataframe.\"\n",
       "            style=\"display:none;\">\n",
       "\n",
       "  <svg xmlns=\"http://www.w3.org/2000/svg\" height=\"24px\"viewBox=\"0 0 24 24\"\n",
       "       width=\"24px\">\n",
       "    <path d=\"M7,19H8.4L18.45,9,17,7.55,7,17.6ZM5,21V16.75L18.45,3.32a2,2,0,0,1,2.83,0l1.4,1.43a1.91,1.91,0,0,1,.58,1.4,1.91,1.91,0,0,1-.58,1.4L9.25,21ZM18.45,9,17,7.55Zm-12,3A5.31,5.31,0,0,0,4.9,8.1,5.31,5.31,0,0,0,1,6.5,5.31,5.31,0,0,0,4.9,4.9,5.31,5.31,0,0,0,6.5,1,5.31,5.31,0,0,0,8.1,4.9,5.31,5.31,0,0,0,12,6.5,5.46,5.46,0,0,0,6.5,12Z\"/>\n",
       "  </svg>\n",
       "    </button>\n",
       "    <script>\n",
       "      (() => {\n",
       "      const buttonEl =\n",
       "        document.querySelector('#id_3214c2fe-847a-4097-af52-e96e6a8e3422 button.colab-df-generate');\n",
       "      buttonEl.style.display =\n",
       "        google.colab.kernel.accessAllowed ? 'block' : 'none';\n",
       "\n",
       "      buttonEl.onclick = () => {\n",
       "        google.colab.notebook.generateWithVariable('metro_df');\n",
       "      }\n",
       "      })();\n",
       "    </script>\n",
       "  </div>\n",
       "\n",
       "    </div>\n",
       "  </div>\n"
      ],
      "text/plain": [
       "              X          Y           Name     city\n",
       "0    -87.756698  41.851781    54th/Cermak  Chicago\n",
       "1    -87.747227  42.026252  Oakton-Skokie  Chicago\n",
       "2    -87.724333  41.853865        Pulaski  Chicago\n",
       "3    -87.708547  41.929736   Logan Square  Chicago\n",
       "4    -87.729183  41.952948    Irving Park  Chicago\n",
       "...         ...        ...            ...      ...\n",
       "2635 -77.415297  38.960766            NaN       DC\n",
       "2636 -77.448150  38.955792            NaN       DC\n",
       "2637 -77.460687  38.992048            NaN       DC\n",
       "2638 -77.491539  39.005291            NaN       DC\n",
       "2639 -77.046407  38.834014            NaN       DC\n",
       "\n",
       "[2640 rows x 4 columns]"
      ]
     },
     "execution_count": 20,
     "metadata": {},
     "output_type": "execute_result"
    }
   ],
   "source": [
    "metro_folder_path = \"Dataset/metro\"\n",
    "metro_df = load_data_from_folder(metro_folder_path)\n",
    "metro_df = metro_df[[\"X\", \"Y\", \"Name\", \"city\"]]\n",
    "metro_df"
   ]
  },
  {
   "cell_type": "markdown",
   "metadata": {
    "id": "dnKkk9yTh8ZA"
   },
   "source": [
    "### Feature Engineering with Metro Data"
   ]
  },
  {
   "cell_type": "markdown",
   "metadata": {
    "id": "aQCQcH2zjyVm"
   },
   "source": [
    "#### Haversine Function"
   ]
  },
  {
   "cell_type": "code",
   "execution_count": 57,
   "metadata": {
    "id": "qCTGs3R7i_DY"
   },
   "outputs": [],
   "source": [
    "# Function to calculate Haversine distance\n",
    "def haversine(lat1, lon1, lat2, lon2):\n",
    "    \"\"\"\n",
    "    Calculate the Haversine distance between two points on the Earth.\n",
    "\n",
    "    Args:\n",
    "        lat1, lon1: Latitude and longitude of point 1 (in degrees).\n",
    "        lat2, lon2: Latitude and longitude of point 2 (in degrees).\n",
    "\n",
    "    Returns:\n",
    "        Distance in meters.\n",
    "    \"\"\"\n",
    "    R = 6371000  # Radius of Earth in meters\n",
    "    lat1, lon1, lat2, lon2 = map(np.radians, [lat1, lon1, lat2, lon2])\n",
    "    dlat = lat2 - lat1\n",
    "    dlon = lon2 - lon1\n",
    "    a = np.sin(dlat / 2) ** 2 + np.cos(lat1) * np.cos(lat2) * np.sin(dlon / 2) ** 2\n",
    "    c = 2 * np.arctan2(np.sqrt(a), np.sqrt(1 - a))\n",
    "    return R * c"
   ]
  },
  {
   "cell_type": "markdown",
   "metadata": {
    "id": "o5BnHIebkBSW"
   },
   "source": [
    "#### Create Features\n",
    "We create features such as:\n",
    "-  Number of Metro Stations within 500m\n",
    "-  Number of Metro Stations within 1000m\n",
    "-  Number of Metro Stations within 5000m\n",
    "-  Shortest distance to Metro Stations within City"
   ]
  },
  {
   "cell_type": "code",
   "execution_count": 59,
   "metadata": {
    "id": "3hgMLruufrzf"
   },
   "outputs": [],
   "source": [
    "# Normalize city names\n",
    "metro_df[\"city\"] = metro_df[\"city\"].str.strip().str.lower()\n",
    "\n",
    "# Initialize new columns\n",
    "df[\"metro_within_500m\"] = 0\n",
    "df[\"metro_within_1000m\"] = 0\n",
    "df[\"metro_within_5000m\"] = 0\n",
    "df[\"shortest_distance_to_metro\"] = np.nan\n",
    "\n",
    "# Loop through each row in the Airbnb dataframe\n",
    "for index, airbnb in df.iterrows():\n",
    "    # Get Airbnb location and city\n",
    "    airbnb_lat = airbnb[\"latitude\"]\n",
    "    airbnb_lon = airbnb[\"longitude\"]\n",
    "    airbnb_city = airbnb[\"city\"]\n",
    "\n",
    "    # Filter metro stations in the same city\n",
    "    city_metro = metro_df[metro_df[\"city\"] == airbnb_city]\n",
    "\n",
    "    if city_metro.empty:\n",
    "        continue\n",
    "\n",
    "    # Calculate distances between the Airbnb property and all metro stations in the city\n",
    "    distances = city_metro.apply(\n",
    "        lambda row: haversine(airbnb_lat, airbnb_lon, row[\"Y\"], row[\"X\"]),\n",
    "        axis=1\n",
    "    )\n",
    "\n",
    "    # Count metro stations within distance thresholds\n",
    "    df.at[index, \"metro_within_500m\"] = sum(distances <= 500)\n",
    "    df.at[index, \"metro_within_1000m\"] = sum(distances <= 1000)\n",
    "    df.at[index, \"metro_within_5000m\"] = sum(distances <= 5000)\n",
    "\n",
    "    # Calculate the shortest distance to any metro station\n",
    "    if not distances.empty:\n",
    "        df.at[index, \"shortest_distance_to_metro\"] = distances.min()"
   ]
  },
  {
   "cell_type": "markdown",
   "metadata": {
    "id": "ZgW4iBFCnT99"
   },
   "source": [
    "### Let's see how these engineered features perform in correlation"
   ]
  },
  {
   "cell_type": "code",
   "execution_count": 62,
   "metadata": {
    "colab": {
     "base_uri": "https://localhost:8080/",
     "height": 723
    },
    "id": "pBcKeV1-kdFb",
    "outputId": "af3c0634-8c48-42bf-e142-b9795006acc6"
   },
   "outputs": [
    {
     "data": {
      "image/png": "[encoded data removed]",
      "text/plain": [
       "<Figure size 800x600 with 2 Axes>"
      ]
     },
     "metadata": {},
     "output_type": "display_data"
    }
   ],
   "source": [
    "# Select columns of interest for correlation\n",
    "columns_of_interest = [\"log_price\", \"metro_within_500m\", \"metro_within_1000m\", \"metro_within_5000m\", \"shortest_distance_to_metro\"]\n",
    "# Ensure numeric columns only\n",
    "corr_df = df[columns_of_interest].corr()\n",
    "# Plot heatmap for correlations\n",
    "plt.figure(figsize=(8, 6))\n",
    "sns.heatmap(corr_df, annot=True, cmap=\"coolwarm\", fmt=\".2f\")\n",
    "plt.title(\"Correlation Matrix\")\n",
    "plt.show()"
   ]
  },
  {
   "cell_type": "markdown",
   "metadata": {
    "id": "1O9aYev4zrvO"
   },
   "source": [
    "### Summary of Metro Feature Correlations\n",
    "\n",
    "1. **Weak Positive Correlations with `log_price`**:\n",
    "   - `metro_within_500m` (0.11) and `metro_within_1000m` (0.14) show weak positive correlations with `log_price`, suggesting that proximity to metro stations may slightly influence Airbnb prices.\n",
    "   - `metro_within_5000m` has an even weaker correlation (0.07), indicating that stations further away are less relevant to pricing.\n",
    "\n",
    "2. **Negative Correlation of `shortest_distance_to_metro`**:\n",
    "   - `shortest_distance_to_metro` has a weak negative correlation (0.01) with `log_price`, indicating that properties closer to metro stations may have slightly higher prices, though the effect is minimal.\n",
    "\n",
    "3. **Inter-Feature Correlations**:\n",
    "   - Features such as `metro_within_500m`, `metro_within_1000m`, and `metro_within_5000m` are strongly correlated with each other (e.g., `0.87` between `metro_within_500m` and `metro_within_1000m`), reflecting overlapping areas covered by the thresholds."
   ]
  },
  {
   "cell_type": "markdown",
   "metadata": {
    "id": "ccQmYSFtzvdm"
   },
   "source": [
    "### Conclusion\n",
    "\n",
    "While the correlation analysis shows weak relationships between metro proximity and Airbnb pricing, proximity to metro stations may still play a role when combined with other features. Features like `metro_within_1000m` and `shortest_distance_to_metro` might provide marginal insights for predictive modeling but should not be expected to act as strong standalone predictors."
   ]
  },
  {
   "cell_type": "markdown",
   "metadata": {
    "id": "TTh8FIp9k5tQ"
   },
   "source": [
    "### Save New Data with engineered features"
   ]
  },
  {
   "cell_type": "code",
   "execution_count": null,
   "metadata": {
    "id": "cnS9XwEHk-Un"
   },
   "outputs": [],
   "source": [
    "# Define the path where the new dataset will be saved\n",
    "output_file_path = \"Dataset/airbnb_with_landmark_metro_features.csv\"\n",
    "\n",
    "# Save the DataFrame as a CSV file\n",
    "df.to_csv(output_file_path, index=False)"
   ]
  }
 ],
 "metadata": {
  "colab": {
   "collapsed_sections": [
    "e31aCBivdUEi",
    "6cB_tzm3hknf"
   ],
   "provenance": []
  },
  "kernelspec": {
   "display_name": "Python 3",
   "language": "python",
   "name": "python3"
  },
  "language_info": {
   "codemirror_mode": {
    "name": "ipython",
    "version": 3
   },
   "file_extension": ".py",
   "mimetype": "text/x-python",
   "name": "python",
   "nbconvert_exporter": "python",
   "pygments_lexer": "ipython3",
   "version": "3.11.4"
  }
 },
 "nbformat": 4,
 "nbformat_minor": 0
}
